{
 "cells": [
  {
   "cell_type": "markdown",
   "metadata": {},
   "source": [
    "<center>\n",
    "    <img src=\"https://cf-courses-data.s3.us.cloud-object-storage.appdomain.cloud/IBMDeveloperSkillsNetwork-DS0105EN-SkillsNetwork/labs/Module2/images/SN_web_lightmode.png\" width=\"300\" alt=\"cognitiveclass.ai logo\">\n",
    "</center>\n"
   ]
  },
  {
   "cell_type": "markdown",
   "metadata": {},
   "source": [
    "#### Add your code below following the instructions given in the course\n"
   ]
  },
  {
   "cell_type": "markdown",
   "metadata": {},
   "source": [
    "# My Jupyter Notebook on IBM Watson Studio"
   ]
  },
  {
   "cell_type": "markdown",
   "metadata": {},
   "source": [
    "**Om Patel**  \n",
    "Data Science Engineer"
   ]
  },
  {
   "cell_type": "markdown",
   "metadata": {},
   "source": [
    "*I am interested in data science because help me with my future goals by providing me with a solid foundation in data science principles and concepts*"
   ]
  },
  {
   "cell_type": "markdown",
   "metadata": {},
   "source": [
    "### The following code will give result of Multiplying two numbers"
   ]
  },
  {
   "cell_type": "code",
   "execution_count": 3,
   "metadata": {},
   "outputs": [
    {
     "data": {
      "text/plain": [
       "28"
      ]
     },
     "execution_count": 3,
     "metadata": {},
     "output_type": "execute_result"
    }
   ],
   "source": [
    "4*7"
   ]
  },
  {
   "cell_type": "markdown",
   "metadata": {},
   "source": [
    "Unordered List\n",
    "<ul>\n",
    "    <li>List item 1</li>\n",
    "    <li>List item 2</li>\n",
    "    <li>List item 3</li>\n",
    "    <li>List item 4</li>\n",
    "</ul>\n",
    "Ordered List\n",
    "<ol>\n",
    "    <li>List item 1</li>\n",
    "    <li>List item 2</li>\n",
    "    <li>List item 3</li>\n",
    "    <li>List item 4</li>\n",
    "</ol>\n",
    "<table>\n",
    "    <tr>\n",
    "        <td>Col 1</td>\n",
    "        <td>Col 2</td>\n",
    "        <td>Col 3</td>\n",
    "    </tr>\n",
    "    <tr>\n",
    "        <td>Row 1 Data 1</td>\n",
    "        <td>Row 1 Data 2</td>\n",
    "        <td>Row 1 Data 3</td>\n",
    "    </tr>\n",
    "    <tr>\n",
    "        <td>Row 2 Data 1</td>\n",
    "        <td>Row 2 Data 2</td>\n",
    "        <td>Row 2 Data 3</td>\n",
    "    </tr>\n",
    "    <tr>\n",
    "        <td>Row 3 Data 1</td>\n",
    "        <td>Row 3 Data 2</td>\n",
    "        <td>Row 3 Data 3</td>\n",
    "    </tr>\n",
    "</table>"
   ]
  },
  {
   "cell_type": "code",
   "execution_count": null,
   "metadata": {},
   "outputs": [],
   "source": []
  }
 ],
 "metadata": {
  "kernelspec": {
   "display_name": "Python",
   "language": "python",
   "name": "conda-env-python-py"
  },
  "language_info": {
   "codemirror_mode": {
    "name": "ipython",
    "version": 3
   },
   "file_extension": ".py",
   "mimetype": "text/x-python",
   "name": "python",
   "nbconvert_exporter": "python",
   "pygments_lexer": "ipython3",
   "version": "3.7.12"
  }
 },
 "nbformat": 4,
 "nbformat_minor": 4
}
